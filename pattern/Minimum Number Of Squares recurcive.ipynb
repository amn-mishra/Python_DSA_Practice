{
 "cells": [
  {
   "cell_type": "markdown",
   "id": "afc129f4",
   "metadata": {},
   "source": [
    "# Minimum Number Of Squares : recurcive "
   ]
  },
  {
   "cell_type": "code",
   "execution_count": null,
   "id": "aa530722",
   "metadata": {},
   "outputs": [],
   "source": [
    "def minStep(n):\n",
    "    if n == 0 :\n",
    "        return 0\n",
    "    if n == 1:\n",
    "        return 1\n",
    "    if n == 2:\n",
    "        return 2\n",
    "    if n == 3:\n",
    "        return 3 \n",
    "    mini = 10000\n",
    "    for i in range(1,n):\n",
    "        if i*i> n:\n",
    "            break \n",
    "        checkOther = minStep(n-(i*i))\n",
    "        mini = min(checkOther + 1 , mini)\n",
    "    return mini\n",
    "        \n",
    "n= int(input())\n",
    "ans = minStep(n)\n",
    "print(ans)"
   ]
  },
  {
   "cell_type": "markdown",
   "id": "df4e925d",
   "metadata": {},
   "source": [
    "# Minimum Number Of Squares : recurcive with dp "
   ]
  },
  {
   "cell_type": "code",
   "execution_count": null,
   "id": "bf36a418",
   "metadata": {},
   "outputs": [],
   "source": [
    "import sys\n",
    "def minNumSquare(n,dp):\n",
    "    if n==0:    \n",
    "        return dp[n]\n",
    "    if n==1:\n",
    "        return dp[n]\n",
    "    mini = 10000000\n",
    "    for i in range(1, n):\n",
    "        if i*i > n:\n",
    "            break\n",
    "        if dp[n-(i*i)] == -1 :\n",
    "            checkFurther = minNumSquare(n-(i*i), dp)\n",
    "            dp[n-(i*i)] = checkFurther\n",
    "        else:\n",
    "            checkFurther = dp[n-(i*i)]   \n",
    "        mini = min(mini, checkFurther+1)\n",
    "    return mini\n",
    "\n",
    "def minStepsTo1(n):\n",
    "    dp = [-1 for i in range(n+1)]\n",
    "    dp[0] = 0 \n",
    "    dp[1] = 1 \n",
    "    return minNumSquare(n, dp)\n",
    "    \n",
    "n = int(input())\n",
    "ans = minStepsTo1(n)\n",
    "print(ans)"
   ]
  },
  {
   "cell_type": "markdown",
   "id": "a6109035",
   "metadata": {},
   "source": [
    "# Minimum Number Of Squares : iterative with dp "
   ]
  },
  {
   "cell_type": "code",
   "execution_count": null,
   "id": "952c1593",
   "metadata": {},
   "outputs": [],
   "source": [
    "import math\n",
    "def minNumberOfSquare(n):\n",
    "    dp = [-1 for i in range(n+1)]    \n",
    "    dp[0] , dp[1] = 0 , 1\n",
    "    for i in range(2, n+1):\n",
    "        mini = 10000000\n",
    "        root = int(math.sqrt(i))\n",
    "        for j in range(1,root+1):\n",
    "            currentAns = 1 + dp[i- (j*j)]\n",
    "            mini = min(currentAns, mini)\n",
    "        dp[i] = mini\n",
    "    return dp[n]\n",
    "\n",
    "n = 11\n",
    "ans = minNumberOfSquare(n)\n",
    "print(ans)"
   ]
  },
  {
   "cell_type": "markdown",
   "id": "f53223d3",
   "metadata": {},
   "source": [
    "# Longest Increasing sequence "
   ]
  },
  {
   "cell_type": "code",
   "execution_count": null,
   "id": "cf194d2d",
   "metadata": {},
   "outputs": [],
   "source": []
  },
  {
   "cell_type": "markdown",
   "id": "bbd74b23",
   "metadata": {},
   "source": [
    "# Longest Increasing sequence : dp recursion "
   ]
  },
  {
   "cell_type": "code",
   "execution_count": null,
   "id": "25a1290f",
   "metadata": {},
   "outputs": [],
   "source": []
  },
  {
   "cell_type": "markdown",
   "id": "97c8f90f",
   "metadata": {},
   "source": [
    "# Longest Increasing Sequence : dp iterative "
   ]
  },
  {
   "cell_type": "code",
   "execution_count": null,
   "id": "efbd7276",
   "metadata": {},
   "outputs": [],
   "source": []
  }
 ],
 "metadata": {
  "kernelspec": {
   "display_name": "Python 3 (ipykernel)",
   "language": "python",
   "name": "python3"
  },
  "language_info": {
   "codemirror_mode": {
    "name": "ipython",
    "version": 3
   },
   "file_extension": ".py",
   "mimetype": "text/x-python",
   "name": "python",
   "nbconvert_exporter": "python",
   "pygments_lexer": "ipython3",
   "version": "3.9.12"
  }
 },
 "nbformat": 4,
 "nbformat_minor": 5
}
